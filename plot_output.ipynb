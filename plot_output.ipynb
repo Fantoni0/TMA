{
 "cells": [
  {
   "cell_type": "heading",
   "metadata": {
    "collapsed": true
   },
   "level": 1,
   "source": [
    "## Code for visualizing differences between training and development metrics"
   ]
  },
  {
   "cell_type": "code",
   "execution_count": null,
   "metadata": {},
   "outputs": [],
   "source": [
    "import matplotlib as mpl\n",
    "mpl.use('Agg') # run matplotlib without X server (GUI)\n",
    "import matplotlib.pyplot as plt\n",
    "%matplotlib inline"
   ]
  },
  {
   "cell_type": "code",
   "execution_count": 50,
   "metadata": {
    "collapsed": true
   },
   "outputs": [],
   "source": [
    "log_file = 'out_arctic_attcond_valxtest.txt'\n",
    "\n",
    "metric_to_plot = 'Bleu_4:'\n",
    "id_to_plot = 'Computing coco scores on the'"
   ]
  },
  {
   "cell_type": "code",
   "execution_count": 51,
   "metadata": {
    "collapsed": false
   },
   "outputs": [],
   "source": [
    "data = dict()\n",
    "\n",
    "f = open(log_file, 'r')\n",
    "iters_per_val = 1\n",
    "for line in f:\n",
    "    if id_to_plot in line:\n",
    "        line = line.split(' ')[-2].strip()\n",
    "        last_id = line\n",
    "        if last_id not in data.keys():\n",
    "            data[last_id] = []\n",
    "        \n",
    "    if metric_to_plot in line:\n",
    "        line = line.split(' ')[-1].strip()\n",
    "        data[last_id].append(float(line))\n",
    "        \n",
    "    if 'EVAL_EACH_UPDATES' in line:\n",
    "        line = line.split(\"'EVAL_EACH_UPDATES': \")[1]\n",
    "        iters_per_val = int(line.split(\",\")[0])"
   ]
  },
  {
   "cell_type": "code",
   "execution_count": 53,
   "metadata": {
    "collapsed": false
   },
   "outputs": [
    {
     "data": {
      "text/plain": [
       "[None, None, None, None]"
      ]
     },
     "execution_count": 53,
     "metadata": {},
     "output_type": "execute_result"
    },
    {
     "data": {
      "image/png": "[encoded data removed]",
      "text/plain": [
       "<matplotlib.figure.Figure at 0x7f5639c49490>"
      ]
     },
     "metadata": {},
     "output_type": "display_data"
    }
   ],
   "source": [
    "positions = range(iters_per_val,len(vals)*iters_per_val+1, iters_per_val)\n",
    "for ids, vals in data.iteritems():\n",
    "    plt.plot(positions, vals)\n",
    "    \n",
    "#plt.ylim([0, 1])\n",
    "plt.xticks(positions)\n",
    "locs, labels = plt.xticks()\n",
    "plt.setp(labels, rotation=90)"
   ]
  }
 ],
 "metadata": {
  "kernelspec": {
   "display_name": "Python 2",
   "language": "python",
   "name": "python2"
  },
  "language_info": {
   "codemirror_mode": {
    "name": "ipython",
    "version": 2.0
   },
   "file_extension": ".py",
   "mimetype": "text/x-python",
   "name": "python",
   "nbconvert_exporter": "python",
   "pygments_lexer": "ipython2",
   "version": "2.7.12"
  }
 },
 "nbformat": 4,
 "nbformat_minor": 0
}